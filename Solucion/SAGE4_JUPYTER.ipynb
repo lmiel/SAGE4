{
 "cells": [
  {
   "cell_type": "code",
   "execution_count": 2,
   "id": "b3f051bb",
   "metadata": {},
   "outputs": [
    {
     "data": {
      "text/plain": [
       "6"
      ]
     },
     "execution_count": 2,
     "metadata": {},
     "output_type": "execute_result"
    }
   ],
   "source": [
    "x = var('x')\n",
    "f(x)=((x**2)+2*x-8)/(x-2)\n",
    "limit(f(x), x=2)"
   ]
  },
  {
   "cell_type": "code",
   "execution_count": 3,
   "id": "7a62d055",
   "metadata": {},
   "outputs": [
    {
     "data": {
      "text/plain": [
       "-Infinity"
      ]
     },
     "execution_count": 3,
     "metadata": {},
     "output_type": "execute_result"
    }
   ],
   "source": [
    "x = var('x')\n",
    "f(x)=sec(x)\n",
    "limit(f(x),x=(pi/2),dir='plus')"
   ]
  },
  {
   "cell_type": "code",
   "execution_count": 4,
   "id": "d3ffd653",
   "metadata": {},
   "outputs": [
    {
     "data": {
      "text/plain": [
       "+Infinity"
      ]
     },
     "execution_count": 4,
     "metadata": {},
     "output_type": "execute_result"
    }
   ],
   "source": [
    "x = var('x')\n",
    "f(x)=sec(x)\n",
    "limit(f(x),x=(pi/2),dir='minus')"
   ]
  },
  {
   "cell_type": "code",
   "execution_count": 6,
   "id": "e3fdb05c",
   "metadata": {},
   "outputs": [
    {
     "data": {
      "text/plain": [
       "3*x^2*cos(2*x)*e^(3*x) - 2*x^2*e^(3*x)*sin(2*x) + 2*x*cos(2*x)*e^(3*x)"
      ]
     },
     "execution_count": 6,
     "metadata": {},
     "output_type": "execute_result"
    }
   ],
   "source": [
    "x = var('x')\n",
    "f(x)=(x**2)*e**(3*x)*cos(2*x)\n",
    "diff(f(x),x)"
   ]
  },
  {
   "cell_type": "code",
   "execution_count": 7,
   "id": "96055084",
   "metadata": {},
   "outputs": [
    {
     "data": {
      "text/plain": [
       "2*t/(t - 2) - (t^2 + 1)/(t - 2)^2"
      ]
     },
     "execution_count": 7,
     "metadata": {},
     "output_type": "execute_result"
    }
   ],
   "source": [
    "t = var('t')\n",
    "f(t)=((t**2)+1)/(t-2)\n",
    "diff(f(t),t)"
   ]
  },
  {
   "cell_type": "code",
   "execution_count": 8,
   "id": "6add658d",
   "metadata": {},
   "outputs": [
    {
     "data": {
      "text/plain": [
       "-y*sin(y) + cos(y)"
      ]
     },
     "execution_count": 8,
     "metadata": {},
     "output_type": "execute_result"
    }
   ],
   "source": [
    "x, y = var('x','y')\n",
    "f(x)=x*cos(x)\n",
    "diff(f(y),y)"
   ]
  },
  {
   "cell_type": "code",
   "execution_count": 10,
   "id": "f4231531",
   "metadata": {},
   "outputs": [
    {
     "data": {
      "text/plain": [
       "1/2*log(x^2 + 2*x + 1)"
      ]
     },
     "execution_count": 10,
     "metadata": {},
     "output_type": "execute_result"
    }
   ],
   "source": [
    "x = var('x')\n",
    "f(x)=(x+1)/((x**2)+2*x+1)\n",
    "integral(f(x), x)"
   ]
  },
  {
   "cell_type": "code",
   "execution_count": 11,
   "id": "9dd4df52",
   "metadata": {},
   "outputs": [
    {
     "data": {
      "text/plain": [
       "log(1/2*sqrt(2) + 1) - log(-1/2*sqrt(2) + 1)"
      ]
     },
     "execution_count": 11,
     "metadata": {},
     "output_type": "execute_result"
    }
   ],
   "source": [
    "x = var('x')\n",
    "f(x)=sec(x)\n",
    "integral(f(x), x, -pi/4, pi/4)"
   ]
  },
  {
   "cell_type": "code",
   "execution_count": 12,
   "id": "a24fb853",
   "metadata": {},
   "outputs": [
    {
     "data": {
      "text/plain": [
       "-1/2*e^(-x^2)"
      ]
     },
     "execution_count": 12,
     "metadata": {},
     "output_type": "execute_result"
    }
   ],
   "source": [
    "x = var('x')\n",
    "f(x)=x*exp(-x**2)\n",
    "integral(f(x), x)"
   ]
  },
  {
   "cell_type": "code",
   "execution_count": null,
   "id": "ee462f67",
   "metadata": {},
   "outputs": [],
   "source": []
  }
 ],
 "metadata": {
  "kernelspec": {
   "display_name": "SageMath 9.7",
   "language": "sage",
   "name": "sagemath-9.7"
  },
  "language_info": {
   "codemirror_mode": {
    "name": "ipython",
    "version": 3
   },
   "file_extension": ".py",
   "mimetype": "text/x-python",
   "name": "python",
   "nbconvert_exporter": "python",
   "pygments_lexer": "ipython3",
   "version": "3.10.5"
  }
 },
 "nbformat": 4,
 "nbformat_minor": 5
}
